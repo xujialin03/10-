{
 "cells": [
  {
   "cell_type": "markdown",
   "metadata": {},
   "source": [
    "1. 通项的意义 计算第n项的值 例如$\\frac{1}{n-1}$ 可以计算出  n=3时 $\\frac{1}{n-1}=\\frac{1}{3-1}=\\frac{1}{2}$"
   ]
  },
  {
   "cell_type": "markdown",
   "metadata": {},
   "source": [
    "- 数列为 : 0,1,$\\frac{1}{2}$,$\\frac{1}{3}$,$\\frac{1}{4}$,$\\frac{1}{5}$ (注意n=1时不存在，分母为0，便于理解，暂时先写这样)"
   ]
  },
  {
   "cell_type": "code",
   "execution_count": 14,
   "metadata": {},
   "outputs": [
    {
     "name": "stdout",
     "output_type": "stream",
     "text": [
      " , 1\\1, 1\\2, 1\\3, 1\\4, 1\\5, 1\\6, 1\\7, 1\\8, \n"
     ]
    }
   ],
   "source": [
    "resu=\" , \"\n",
    "for num in range(2,10):\n",
    "    resu+=f\"1\\{num-1}, \"\n",
    "print (resu)\n"
   ]
  },
  {
   "cell_type": "markdown",
   "metadata": {},
   "source": [
    "2. 如果要计算第几项=哪个数 例如: 当n=多少时 $\\frac{1}{n-1}=\\frac{1}{4}$,$n-1=4$,$n=4+1$,$n=5$  "
   ]
  },
  {
   "cell_type": "markdown",
   "metadata": {},
   "source": [
    "3. 如果要计算第几项 < 或 > 哪个值 即  \n",
    "例如: $\\frac{1}{n-1}<\\frac{1}{100}$ 两边取倒数，变号，即 n-1>100，n>99  \n",
    "此时找到这个99就是概念中的 N 表示 当N（99)项后  \n",
    "数列会小于 $\\frac{1}{100}$ 这个 $\\frac{1}{100}$就是 概念中的$\\varepsilon$  "
   ]
  }
 ],
 "metadata": {
  "kernelspec": {
   "display_name": "mathlearn",
   "language": "python",
   "name": "python3"
  },
  "language_info": {
   "codemirror_mode": {
    "name": "ipython",
    "version": 3
   },
   "file_extension": ".py",
   "mimetype": "text/x-python",
   "name": "python",
   "nbconvert_exporter": "python",
   "pygments_lexer": "ipython3",
   "version": "3.10.14"
  }
 },
 "nbformat": 4,
 "nbformat_minor": 2
}
